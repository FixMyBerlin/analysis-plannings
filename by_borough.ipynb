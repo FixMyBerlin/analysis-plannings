{
 "cells": [
  {
   "cell_type": "markdown",
   "metadata": {},
   "source": [
    "# Auswertung der umgesetzten Projektlängen\n",
    "\n",
    "Dieses Skript lädt alle Planungen aus der API herunter und wertet diese dann nach Bezirk, bzw. Jahr aus, so dass die Längen aller abgeschlossenen Planungen addiert werden, die in die jeweilige Kategorie fallen."
   ]
  },
  {
   "cell_type": "code",
   "execution_count": 99,
   "metadata": {},
   "outputs": [],
   "source": [
    "import requests\n",
    "from collections import defaultdict"
   ]
  },
  {
   "cell_type": "code",
   "execution_count": 100,
   "metadata": {},
   "outputs": [
    {
     "name": "stdout",
     "output_type": "stream",
     "text": [
      "Got 187\n"
     ]
    }
   ],
   "source": [
    "ENDPOINT = \"https://fixmyberlin.de/api/v1/projects?page_size=200\"\n",
    "raw = requests.get(ENDPOINT).json()\n",
    "results = raw[\"results\"]\n",
    "print(\"Got\", len(results))"
   ]
  },
  {
   "cell_type": "code",
   "execution_count": 101,
   "metadata": {},
   "outputs": [],
   "source": [
    "results_2019 = [\n",
    "    planning for planning in results \n",
    "    if planning['phase'] == \"ready\" \n",
    "]\n",
    "len(results_2019)\n",
    "results_2019 = results"
   ]
  },
  {
   "cell_type": "code",
   "execution_count": 102,
   "metadata": {},
   "outputs": [],
   "source": [
    "def getRVALength(planning):\n",
    "    isBisided = planning[\"side\"] == 2\n",
    "    return planning[\"length\"] if not isBisided else planning[\"length\"] * 2"
   ]
  },
  {
   "cell_type": "code",
   "execution_count": 107,
   "metadata": {},
   "outputs": [],
   "source": [
    "by_borough = defaultdict(lambda: {\"2016\": 0, \"2017\": 0, \"2018\": 0, \"2019\": 0, \"2020\": 0, \"2021\": 0, \"total\": 0})\n",
    "by_year = defaultdict(int)\n",
    "for result in results_2019:\n",
    "    try:\n",
    "        bor = result[\"borough\"]\n",
    "        year = result[\"construction_completed_date\"][:4]\n",
    "    except TypeError:\n",
    "        continue\n",
    "    \n",
    "    by_borough[bor][year] += getRVALength(result)\n",
    "    by_borough[bor][\"total\"] += getRVALength(result)\n",
    "    by_year[year] += getRVALength(result)\n",
    "    \n",
    "    if result[\"borough\"] is None:\n",
    "        print(\"Missing borough\", result[\"url\"])\n"
   ]
  },
  {
   "cell_type": "code",
   "execution_count": 127,
   "metadata": {},
   "outputs": [
    {
     "name": "stdout",
     "output_type": "stream",
     "text": [
      "Bezirk,Gesamt,2016,2017,2018,2019,2020,2021,total\n",
      "Friedrichshain-Kreuzberg,14463.0,0,0,642.0,853.0,12968.0,0\n",
      "Lichtenberg,1050.0,0,0,1050.0,0,0,0\n",
      "Marzahn-Hellersdorf,6696.0,0,0,3810.0,2886.0,0,0\n",
      "Mitte,22896.0,0,0,684.0,15758.0,6454.0,0\n",
      "Neukölln,14634.0,320.0,2650.0,5054.0,1548.0,3882.0,1180.0\n",
      "Pankow,11904.0,0,2106.0,2744.0,6418.0,636.0,0\n",
      "Spandau,1522.0,0,0,0,1522.0,0,0\n",
      "Steglitz-Zehlendorf,21175.0,0,0,4830.0,16345.0,0,0\n",
      "Tempelhof-Schöneberg,1140.0,0,0,0,1140.0,0,0\n",
      "\n"
     ]
    }
   ],
   "source": [
    "out = f\"Bezirk,Gesamt,\" + \",\".join(sorted(by_borough['Mitte'].keys()[:-1])) + \"\\n\"\n",
    "for bor in sorted(by_borough.keys())[:-1]:\n",
    "    total = by_borough[bor][\"total\"]\n",
    "    years = \"\"\n",
    "    for year in sorted(by_borough[bor].keys())[:-1]:\n",
    "        # print(year, by_borough[bor][year])\n",
    "        years += \",\" + str(by_borough[bor][year])\n",
    "    out += f\"{bor},{total}{years}\\n\"\n",
    "print(out)"
   ]
  },
  {
   "cell_type": "code",
   "execution_count": 128,
   "metadata": {},
   "outputs": [
    {
     "data": {
      "text/plain": [
       "defaultdict(int,\n",
       "            {'2020': 23940.0,\n",
       "             '2019': 52880.0,\n",
       "             '2018': 22753.0,\n",
       "             '2021': 3592.0,\n",
       "             '2017': 14418.0,\n",
       "             '2016': 320.0})"
      ]
     },
     "execution_count": 128,
     "metadata": {},
     "output_type": "execute_result"
    }
   ],
   "source": [
    "by_year"
   ]
  },
  {
   "cell_type": "code",
   "execution_count": 129,
   "metadata": {},
   "outputs": [],
   "source": [
    "with open('out.csv', \"w\") as f:\n",
    "    f.write(out)"
   ]
  },
  {
   "cell_type": "code",
   "execution_count": null,
   "metadata": {},
   "outputs": [],
   "source": []
  }
 ],
 "metadata": {
  "kernelspec": {
   "display_name": "Python 3",
   "language": "python",
   "name": "python3"
  },
  "language_info": {
   "codemirror_mode": {
    "name": "ipython",
    "version": 3
   },
   "file_extension": ".py",
   "mimetype": "text/x-python",
   "name": "python",
   "nbconvert_exporter": "python",
   "pygments_lexer": "ipython3",
   "version": "3.7.6"
  }
 },
 "nbformat": 4,
 "nbformat_minor": 2
}